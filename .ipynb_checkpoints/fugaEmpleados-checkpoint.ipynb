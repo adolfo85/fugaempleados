{
 "cells": [
  {
   "cell_type": "markdown",
   "id": "69ff5ea8-f582-4c0b-bcb7-e3d04edac24f",
   "metadata": {},
   "source": [
    "CONFIGURACIÓN DE ENTORNO"
   ]
  },
  {
   "cell_type": "code",
   "execution_count": 1,
   "id": "1fb2f51c-f79c-42cb-8252-125877916b9c",
   "metadata": {},
   "outputs": [],
   "source": [
    "import numpy as np\n",
    "import pandas as pd\n",
    "import matplotlib.pyplot as plt\n",
    "%matplotlib inline"
   ]
  },
  {
   "cell_type": "code",
   "execution_count": 4,
   "id": "071ef8c1-6dac-4133-98c6-91ee1f59a5cf",
   "metadata": {},
   "outputs": [],
   "source": [
    "df = pd.read_csv('AbandonoEmpleados.csv', sep = ';', index_col= 'id', na_values='#N/D')\n"
   ]
  },
  {
   "cell_type": "markdown",
   "id": "a3211c89-5b6f-4086-8ca9-4d2570cad74a",
   "metadata": {},
   "source": [
    "ACERCAMIENTO A LOS DATOS"
   ]
  },
  {
   "cell_type": "code",
   "execution_count": 5,
   "id": "9bd7bdc4-5c09-4417-b580-fd0ac2e91391",
   "metadata": {},
   "outputs": [
    {
     "name": "stdout",
     "output_type": "stream",
     "text": [
      "<class 'pandas.core.frame.DataFrame'>\n",
      "Int64Index: 1470 entries, 1 to 2068\n",
      "Data columns (total 31 columns):\n",
      " #   Column                    Non-Null Count  Dtype  \n",
      "---  ------                    --------------  -----  \n",
      " 0   edad                      1470 non-null   int64  \n",
      " 1   abandono                  1470 non-null   object \n",
      " 2   viajes                    1470 non-null   object \n",
      " 3   departamento              1470 non-null   object \n",
      " 4   distancia_casa            1470 non-null   int64  \n",
      " 5   educacion                 1369 non-null   object \n",
      " 6   carrera                   1470 non-null   object \n",
      " 7   empleados                 1470 non-null   int64  \n",
      " 8   satisfaccion_entorno      1470 non-null   object \n",
      " 9   sexo                      1271 non-null   float64\n",
      " 10  implicacion               1452 non-null   object \n",
      " 11  nivel_laboral             1470 non-null   int64  \n",
      " 12  puesto                    1470 non-null   object \n",
      " 13  satisfaccion_trabajo      1394 non-null   object \n",
      " 14  estado_civil              1470 non-null   object \n",
      " 15  salario_mes               1470 non-null   int64  \n",
      " 16  num_empresas_anteriores   1470 non-null   int64  \n",
      " 17  mayor_edad                1470 non-null   object \n",
      " 18  horas_extra               1470 non-null   object \n",
      " 19  incremento_salario_porc   1470 non-null   int64  \n",
      " 20  evaluacion                1470 non-null   object \n",
      " 21  satisfaccion_companeros   1470 non-null   object \n",
      " 22  horas_quincena            1470 non-null   int64  \n",
      " 23  nivel_acciones            1470 non-null   int64  \n",
      " 24  anos_experiencia          1470 non-null   int64  \n",
      " 25  num_formaciones_ult_ano   1470 non-null   int64  \n",
      " 26  conciliacion              459 non-null    object \n",
      " 27  anos_compania             1470 non-null   int64  \n",
      " 28  anos_en_puesto            232 non-null    float64\n",
      " 29  anos_desde_ult_promocion  1470 non-null   int64  \n",
      " 30  anos_con_manager_actual   1470 non-null   int64  \n",
      "dtypes: float64(2), int64(14), object(15)\n",
      "memory usage: 367.5+ KB\n"
     ]
    }
   ],
   "source": [
    "df.info()"
   ]
  }
 ],
 "metadata": {
  "kernelspec": {
   "display_name": "Python 3 (ipykernel)",
   "language": "python",
   "name": "python3"
  },
  "language_info": {
   "codemirror_mode": {
    "name": "ipython",
    "version": 3
   },
   "file_extension": ".py",
   "mimetype": "text/x-python",
   "name": "python",
   "nbconvert_exporter": "python",
   "pygments_lexer": "ipython3",
   "version": "3.9.13"
  }
 },
 "nbformat": 4,
 "nbformat_minor": 5
}
